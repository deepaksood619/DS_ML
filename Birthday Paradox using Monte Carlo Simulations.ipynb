{
 "cells": [
  {
   "cell_type": "markdown",
   "metadata": {},
   "source": [
    "### Birthday Paradox using Monte Carlo Simulations"
   ]
  },
  {
   "cell_type": "code",
   "execution_count": 17,
   "metadata": {},
   "outputs": [],
   "source": [
    "import random\n",
    "from collections import defaultdict"
   ]
  },
  {
   "cell_type": "code",
   "execution_count": 231,
   "metadata": {},
   "outputs": [],
   "source": [
    "def party(n):\n",
    "    lst = random.choices(range(1, 366), k=n)\n",
    "    \n",
    "    return 0 if len(lst) == len(set(lst)) else 1"
   ]
  },
  {
   "cell_type": "code",
   "execution_count": 234,
   "metadata": {},
   "outputs": [
    {
     "name": "stdout",
     "output_type": "stream",
     "text": [
      "Num of people = 2, probability of two people having same birthday = 0.278\n",
      "Num of people = 3, probability of two people having same birthday = 0.783\n",
      "Num of people = 4, probability of two people having same birthday = 1.595\n",
      "Num of people = 5, probability of two people having same birthday = 2.688\n",
      "Num of people = 6, probability of two people having same birthday = 4.136\n",
      "Num of people = 7, probability of two people having same birthday = 5.697\n",
      "Num of people = 8, probability of two people having same birthday = 7.332\n",
      "Num of people = 9, probability of two people having same birthday = 9.361\n",
      "Num of people = 10, probability of two people having same birthday = 11.741\n",
      "Num of people = 11, probability of two people having same birthday = 13.882\n",
      "Num of people = 12, probability of two people having same birthday = 16.612\n",
      "Num of people = 13, probability of two people having same birthday = 19.534\n",
      "Num of people = 14, probability of two people having same birthday = 22.282\n",
      "Num of people = 15, probability of two people having same birthday = 25.4\n",
      "Num of people = 16, probability of two people having same birthday = 28.436\n",
      "Num of people = 17, probability of two people having same birthday = 31.429\n",
      "Num of people = 18, probability of two people having same birthday = 34.694\n",
      "Num of people = 19, probability of two people having same birthday = 37.962\n",
      "Num of people = 20, probability of two people having same birthday = 40.963\n",
      "Num of people = 21, probability of two people having same birthday = 44.325\n",
      "Num of people = 22, probability of two people having same birthday = 47.529\n",
      "Num of people = 23, probability of two people having same birthday = 50.575\n",
      "Num of people = 24, probability of two people having same birthday = 53.838\n",
      "Num of people = 25, probability of two people having same birthday = 56.82\n",
      "Num of people = 26, probability of two people having same birthday = 59.565\n",
      "Num of people = 27, probability of two people having same birthday = 62.763\n",
      "Num of people = 28, probability of two people having same birthday = 65.439\n",
      "Num of people = 29, probability of two people having same birthday = 68.239\n",
      "Num of people = 30, probability of two people having same birthday = 70.785\n",
      "Num of people = 31, probability of two people having same birthday = 72.704\n",
      "Num of people = 32, probability of two people having same birthday = 75.414\n",
      "Num of people = 33, probability of two people having same birthday = 77.518\n",
      "Num of people = 34, probability of two people having same birthday = 79.449\n",
      "Num of people = 35, probability of two people having same birthday = 81.452\n",
      "Num of people = 36, probability of two people having same birthday = 83.253\n",
      "Num of people = 37, probability of two people having same birthday = 84.762\n",
      "Num of people = 38, probability of two people having same birthday = 86.56\n",
      "Num of people = 39, probability of two people having same birthday = 87.875\n",
      "Num of people = 40, probability of two people having same birthday = 89.204\n",
      "Num of people = 41, probability of two people having same birthday = 90.24\n",
      "Num of people = 42, probability of two people having same birthday = 91.502\n",
      "Num of people = 43, probability of two people having same birthday = 92.411\n",
      "Num of people = 44, probability of two people having same birthday = 93.436\n",
      "Num of people = 45, probability of two people having same birthday = 94.042\n",
      "Num of people = 46, probability of two people having same birthday = 94.891\n",
      "Num of people = 47, probability of two people having same birthday = 95.638\n",
      "Num of people = 48, probability of two people having same birthday = 96.024\n",
      "Num of people = 49, probability of two people having same birthday = 96.676\n"
     ]
    }
   ],
   "source": [
    "num_of_loops = 100000\n",
    "\n",
    "for num_of_people in range(2, 50):\n",
    "    num_of_clash_birthdays = 0\n",
    "    for i in range(num_of_loops):\n",
    "        num_of_clash_birthdays += party(num_of_people)\n",
    "    prob = (num_of_clash_birthdays * 100) / num_of_loops\n",
    "    print('Num of people = {}, probability of two people having same birthday = {}'.format(num_of_people, prob))"
   ]
  },
  {
   "cell_type": "markdown",
   "metadata": {},
   "source": [
    "### Probability distribution of people having unique birthdays - Birthday Paradox"
   ]
  },
  {
   "cell_type": "code",
   "execution_count": 16,
   "metadata": {
    "collapsed": true
   },
   "outputs": [
    {
     "name": "stdout",
     "output_type": "stream",
     "text": [
      "probability of 1 persons' unique birthday - 1.0\n",
      "probability of 2 persons' unique birthday - 0.9972602739726028\n",
      "probability of 3 persons' unique birthday - 0.9917958341152187\n",
      "probability of 4 persons' unique birthday - 0.9836440875334498\n",
      "probability of 5 persons' unique birthday - 0.9728644263002065\n",
      "probability of 6 persons' unique birthday - 0.9595375163508886\n",
      "probability of 7 persons' unique birthday - 0.9437642969040246\n",
      "probability of 8 persons' unique birthday - 0.925664707648331\n",
      "probability of 9 persons' unique birthday - 0.9053761661108333\n",
      "probability of 10 persons' unique birthday - 0.8830518222889223\n",
      "probability of 11 persons' unique birthday - 0.8588586216782669\n",
      "probability of 12 persons' unique birthday - 0.8329752111619355\n",
      "probability of 13 persons' unique birthday - 0.8055897247675705\n",
      "probability of 14 persons' unique birthday - 0.7768974879950269\n",
      "probability of 15 persons' unique birthday - 0.7470986802363135\n",
      "probability of 16 persons' unique birthday - 0.7163959947471499\n",
      "probability of 17 persons' unique birthday - 0.6849923347034391\n",
      "probability of 18 persons' unique birthday - 0.6530885821282104\n",
      "probability of 19 persons' unique birthday - 0.620881473968463\n",
      "probability of 20 persons' unique birthday - 0.5885616164194197\n",
      "probability of 21 persons' unique birthday - 0.556311664834794\n",
      "probability of 22 persons' unique birthday - 0.5243046923374497\n",
      "probability of 23 persons' unique birthday - 0.4927027656760144\n",
      "probability of 24 persons' unique birthday - 0.46165574208547105\n",
      "probability of 25 persons' unique birthday - 0.431300296030536\n",
      "probability of 26 persons' unique birthday - 0.4017591798640609\n",
      "probability of 27 persons' unique birthday - 0.37314071773675794\n",
      "probability of 28 persons' unique birthday - 0.3455385276576005\n",
      "probability of 29 persons' unique birthday - 0.3190314625222229\n",
      "probability of 30 persons' unique birthday - 0.2936837572807312\n",
      "probability of 31 persons' unique birthday - 0.26954536627135606\n",
      "probability of 32 persons' unique birthday - 0.24665247214967925\n",
      "probability of 33 persons' unique birthday - 0.22502814582422792\n",
      "probability of 34 persons' unique birthday - 0.20468313537984567\n",
      "probability of 35 persons' unique birthday - 0.18561676112528472\n",
      "probability of 36 persons' unique birthday - 0.16781789362012042\n",
      "probability of 37 persons' unique birthday - 0.15126599178361538\n",
      "probability of 38 persons' unique birthday - 0.13593217891787904\n",
      "probability of 39 persons' unique birthday - 0.12178033563327793\n",
      "probability of 40 persons' unique birthday - 0.10876819018205097\n",
      "probability of 41 persons' unique birthday - 0.09684838851826456\n",
      "probability of 42 persons' unique birthday - 0.08596952843813074\n",
      "probability of 43 persons' unique birthday - 0.07607714434388009\n",
      "probability of 44 persons' unique birthday - 0.06711463144857367\n",
      "probability of 45 persons' unique birthday - 0.05902410053422507\n",
      "probability of 46 persons' unique birthday - 0.05174715663274526\n",
      "probability of 47 persons' unique birthday - 0.04522559716670065\n",
      "probability of 48 persons' unique birthday - 0.039402027120577554\n",
      "probability of 49 persons' unique birthday - 0.03422039067732352\n",
      "probability of 50 persons' unique birthday - 0.029626420422011596\n",
      "probability of 51 persons' unique birthday - 0.02556800666557165\n",
      "probability of 52 persons' unique birthday - 0.021995490665724652\n",
      "probability of 53 persons' unique birthday - 0.018861886516087167\n",
      "probability of 54 persons' unique birthday - 0.016123037241148483\n",
      "probability of 55 persons' unique birthday - 0.013737711183553913\n",
      "probability of 56 persons' unique birthday - 0.011667645114799213\n",
      "probability of 57 persons' unique birthday - 0.009877540658830017\n",
      "probability of 58 persons' unique birthday - 0.008335020610738753\n",
      "probability of 59 persons' unique birthday - 0.007010551582183006\n",
      "probability of 60 persons' unique birthday - 0.005877339134652055\n",
      "probability of 61 persons' unique birthday - 0.004911201194709251\n",
      "probability of 62 persons' unique birthday - 0.0040904251046345545\n",
      "probability of 63 persons' unique birthday - 0.0033956131690527948\n",
      "probability of 64 persons' unique birthday - 0.0028095210330245043\n",
      "probability of 65 persons' unique birthday - 0.002316892687507879\n",
      "probability of 66 persons' unique birthday - 0.0019042953595955169\n",
      "probability of 67 persons' unique birthday - 0.0015599570206001631\n",
      "probability of 68 persons' unique birthday - 0.0012736087455858865\n",
      "probability of 69 persons' unique birthday - 0.0010363336916137213\n",
      "probability of 70 persons' unique birthday - 0.0008404240348429083\n",
      "probability of 71 persons' unique birthday - 0.0006792468226812546\n",
      "probability of 72 persons' unique birthday - 0.0005471193585432571\n",
      "probability of 73 persons' unique birthday - 0.0004391944439812996\n",
      "probability of 74 persons' unique birthday - 0.0003513555551850397\n",
      "probability of 75 persons' unique birthday - 0.00028012182618862065\n",
      "probability of 76 persons' unique birthday - 0.00022256254683479447\n",
      "probability of 77 persons' unique birthday - 0.00017622075626097424\n",
      "probability of 78 persons' unique birthday - 0.00013904541863879612\n",
      "probability of 79 persons' unique birthday - 0.00010933160314886161\n",
      "probability of 80 persons' unique birthday - 8.566805068650527e-05\n",
      "probability of 81 persons' unique birthday - 6.689149163192876e-05\n",
      "probability of 82 persons' unique birthday - 5.2047078420459645e-05\n",
      "probability of 83 persons' unique birthday - 4.0354310117781044e-05\n",
      "probability of 84 persons' unique birthday - 3.117785055675138e-05\n",
      "probability of 85 persons' unique birthday - 2.4002673990266133e-05\n",
      "probability of 86 persons' unique birthday - 1.8413010184313745e-05\n",
      "probability of 87 persons' unique birthday - 1.4074602305269957e-05\n",
      "probability of 88 persons' unique birthday - 1.0719834084561776e-05\n",
      "probability of 89 persons' unique birthday - 8.135326140886608e-06\n",
      "probability of 90 persons' unique birthday - 6.151643876396449e-06\n",
      "probability of 91 persons' unique birthday - 4.634800180846639e-06\n",
      "probability of 92 persons' unique birthday - 3.479274656306792e-06\n",
      "probability of 93 persons' unique birthday - 2.6023067977308336e-06\n",
      "probability of 94 persons' unique birthday - 1.9392532848843475e-06\n",
      "probability of 95 persons' unique birthday - 1.439829151242899e-06\n",
      "probability of 96 persons' unique birthday - 1.0650790981796785e-06\n",
      "probability of 97 persons' unique birthday - 7.849487052337905e-07\n",
      "probability of 98 persons' unique birthday - 5.763458986374133e-07\n",
      "probability of 99 persons' unique birthday - 4.21600972427916e-07\n",
      "probability of 100 persons' unique birthday - 3.0724892785157715e-07\n"
     ]
    }
   ],
   "source": [
    "# x-axis - number of people\n",
    "# y-asis - probability of all having unique birthdays\n",
    "\n",
    "prob = 1\n",
    "unique_days = 365\n",
    "num_of_days = 365\n",
    "persons = []\n",
    "prob_lst = []\n",
    "\n",
    "for i in range(1, 101):\n",
    "    persons.append(i)\n",
    "    prob = prob * (unique_days/num_of_days)\n",
    "    prob_lst.append(prob)\n",
    "    print(\"probability of {} persons' unique birthday - {}\".format(i, prob))\n",
    "    unique_days -= 1"
   ]
  },
  {
   "cell_type": "code",
   "execution_count": 3,
   "metadata": {},
   "outputs": [],
   "source": [
    "import matplotlib.pyplot as plt"
   ]
  },
  {
   "cell_type": "code",
   "execution_count": 21,
   "metadata": {},
   "outputs": [
    {
     "data": {
      "image/png": "[encoded data removed]",
      "text/plain": [
       "<Figure size 432x288 with 1 Axes>"
      ]
     },
     "metadata": {},
     "output_type": "display_data"
    }
   ],
   "source": [
    "plt.plot(persons, prob_lst)\n",
    "plt.title('Probability of persons having unique birthdays')\n",
    "plt.xlabel('Number of persons')\n",
    "plt.ylabel('probability of all having unique birthdays')\n",
    "\n",
    "plt.axis([1, 100, 0, 1])\n",
    "plt.grid(True)\n",
    "\n",
    "plt.show()"
   ]
  }
 ],
 "metadata": {
  "kernelspec": {
   "display_name": "Python 3",
   "language": "python",
   "name": "python3"
  },
  "language_info": {
   "codemirror_mode": {
    "name": "ipython",
    "version": 3
   },
   "file_extension": ".py",
   "mimetype": "text/x-python",
   "name": "python",
   "nbconvert_exporter": "python",
   "pygments_lexer": "ipython3",
   "version": "3.6.5"
  }
 },
 "nbformat": 4,
 "nbformat_minor": 2
}
