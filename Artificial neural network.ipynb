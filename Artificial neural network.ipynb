{
 "cells": [
  {
   "cell_type": "markdown",
   "metadata": {},
   "source": [
    "https://github.com/chribsen/simple-machine-learning-examples/blob/master/very_simple_examples/artificial_neural_network.py"
   ]
  },
  {
   "cell_type": "code",
   "execution_count": 2,
   "metadata": {},
   "outputs": [
    {
     "name": "stdout",
     "output_type": "stream",
     "text": [
      "Requirement already up-to-date: pybrain in /usr/local/lib/python3.6/site-packages (0.3)\r\n"
     ]
    }
   ],
   "source": [
    "!pip3 install pybrain --upgrade"
   ]
  },
  {
   "cell_type": "code",
   "execution_count": 3,
   "metadata": {},
   "outputs": [
    {
     "ename": "ModuleNotFoundError",
     "evalue": "No module named 'structure'",
     "output_type": "error",
     "traceback": [
      "\u001b[0;31m---------------------------------------------------------------------------\u001b[0m",
      "\u001b[0;31mModuleNotFoundError\u001b[0m                       Traceback (most recent call last)",
      "\u001b[0;32m<ipython-input-3-570b417204cb>\u001b[0m in \u001b[0;36m<module>\u001b[0;34m()\u001b[0m\n\u001b[0;32m----> 1\u001b[0;31m \u001b[0;32mfrom\u001b[0m \u001b[0mpybrain\u001b[0m\u001b[0;34m.\u001b[0m\u001b[0mdatasets\u001b[0m\u001b[0;34m.\u001b[0m\u001b[0mclassification\u001b[0m \u001b[0;32mimport\u001b[0m \u001b[0mClassificationDataSet\u001b[0m\u001b[0;34m\u001b[0m\u001b[0m\n\u001b[0m\u001b[1;32m      2\u001b[0m \u001b[0;31m# below line can be replaced with the algorithm of choice e.g.\u001b[0m\u001b[0;34m\u001b[0m\u001b[0;34m\u001b[0m\u001b[0m\n\u001b[1;32m      3\u001b[0m \u001b[0;31m# from pybrain.optimization.hillclimber import HillClimber\u001b[0m\u001b[0;34m\u001b[0m\u001b[0;34m\u001b[0m\u001b[0m\n\u001b[1;32m      4\u001b[0m \u001b[0;32mfrom\u001b[0m \u001b[0mpybrain\u001b[0m\u001b[0;34m.\u001b[0m\u001b[0moptimization\u001b[0m\u001b[0;34m.\u001b[0m\u001b[0mpopulationbased\u001b[0m\u001b[0;34m.\u001b[0m\u001b[0mga\u001b[0m \u001b[0;32mimport\u001b[0m \u001b[0mGA\u001b[0m\u001b[0;34m\u001b[0m\u001b[0m\n\u001b[1;32m      5\u001b[0m \u001b[0;32mfrom\u001b[0m \u001b[0mpybrain\u001b[0m\u001b[0;34m.\u001b[0m\u001b[0mtools\u001b[0m\u001b[0;34m.\u001b[0m\u001b[0mshortcuts\u001b[0m \u001b[0;32mimport\u001b[0m \u001b[0mbuildNetwork\u001b[0m\u001b[0;34m\u001b[0m\u001b[0m\n",
      "\u001b[0;32m/usr/local/lib/python3.6/site-packages/pybrain/__init__.py\u001b[0m in \u001b[0;36m<module>\u001b[0;34m()\u001b[0m\n\u001b[0;32m----> 1\u001b[0;31m \u001b[0;32mfrom\u001b[0m \u001b[0mstructure\u001b[0m\u001b[0;34m.\u001b[0m\u001b[0m__init__\u001b[0m \u001b[0;32mimport\u001b[0m \u001b[0;34m*\u001b[0m\u001b[0;34m\u001b[0m\u001b[0m\n\u001b[0m",
      "\u001b[0;31mModuleNotFoundError\u001b[0m: No module named 'structure'"
     ]
    }
   ],
   "source": [
    "from pybrain.datasets.classification import ClassificationDataSet\n",
    "# below line can be replaced with the algorithm of choice e.g.\n",
    "# from pybrain.optimization.hillclimber import HillClimber\n",
    "from pybrain.optimization.populationbased.ga import GA\n",
    "from pybrain.tools.shortcuts import buildNetwork\n",
    "\n",
    "# create dataset\n",
    "d = ClassificationDataSet(2)\n",
    "d.addSample([181, 80], [1])\n",
    "d.addSample([177, 70], [1])\n",
    "d.addSample([160, 60], [0])\n",
    "d.addSample([154, 54], [0])\n",
    "d.setField('class', [ [0.],[1.],[1.],[0.]])\n",
    "\n",
    "nn = buildNetwork(2, 3, 1)\n",
    "\n",
    "# d.evaluateModuleMSE takes nn as its first and only argument\n",
    "ga = GA(d.evaluateModuleMSE, nn, minimize=True)\n",
    "\n",
    "for i in range(100):\n",
    "    nn = ga.learn(0)[0]\n",
    "\n",
    "print(nn.activate([181, 80]))"
   ]
  }
 ],
 "metadata": {
  "kernelspec": {
   "display_name": "Python 3",
   "language": "python",
   "name": "python3"
  },
  "language_info": {
   "codemirror_mode": {
    "name": "ipython",
    "version": 3
   },
   "file_extension": ".py",
   "mimetype": "text/x-python",
   "name": "python",
   "nbconvert_exporter": "python",
   "pygments_lexer": "ipython3",
   "version": "3.6.5"
  }
 },
 "nbformat": 4,
 "nbformat_minor": 2
}
