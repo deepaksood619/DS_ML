{
 "cells": [
  {
   "cell_type": "markdown",
   "metadata": {},
   "source": [
    "### Gender Classification"
   ]
  },
  {
   "cell_type": "code",
   "execution_count": 1,
   "metadata": {},
   "outputs": [],
   "source": [
    "from sklearn import tree"
   ]
  },
  {
   "cell_type": "code",
   "execution_count": 2,
   "metadata": {},
   "outputs": [],
   "source": [
    "clf = tree.DecisionTreeClassifier()\n",
    "\n",
    "# CHALLENGE - create 3 more classifiers...\n",
    "# 1\n",
    "# 2\n",
    "# 3\n",
    "\n",
    "# [height, weight, shoe_size]\n",
    "X = [[181, 80, 44], [177, 70, 43], [160, 60, 38], [154, 54, 37], [166, 65, 40],\n",
    "     [190, 90, 47], [175, 64, 39],\n",
    "     [177, 70, 40], [159, 55, 37], [171, 75, 42], [181, 85, 43]]\n",
    "\n",
    "Y = ['male', 'male', 'female', 'female', 'male', 'male', 'female', 'female',\n",
    "     'female', 'male', 'male']\n",
    "\n",
    "\n",
    "# CHALLENGE - ...and train them on our data\n",
    "clf = clf.fit(X, Y)"
   ]
  },
  {
   "cell_type": "code",
   "execution_count": 3,
   "metadata": {},
   "outputs": [
    {
     "name": "stdout",
     "output_type": "stream",
     "text": [
      "['male']\n"
     ]
    }
   ],
   "source": [
    "prediction = clf.predict([[190, 70, 43]])\n",
    "\n",
    "# CHALLENGE compare their reusults and print the best one!\n",
    "\n",
    "print(prediction)"
   ]
  },
  {
   "cell_type": "markdown",
   "metadata": {},
   "source": [
    "https://www.youtube.com/watch?v=T5pRlIbr6gg&list=PL2-dafEMk2A6QKz1mrk1uIGfHkC1zZ6UU&index=1"
   ]
  },
  {
   "cell_type": "code",
   "execution_count": 8,
   "metadata": {},
   "outputs": [],
   "source": [
    "from sklearn import tree\n",
    "from sklearn.svm import SVC\n",
    "from sklearn.linear_model import Perceptron\n",
    "from sklearn.neighbors import KNeighborsClassifier\n",
    "from sklearn.naive_bayes import GaussianNB\n",
    "\n",
    "from sklearn.metrics import accuracy_score"
   ]
  },
  {
   "cell_type": "code",
   "execution_count": 9,
   "metadata": {},
   "outputs": [],
   "source": [
    "# Data and labels\n",
    "X = [[181, 80, 44], [177, 70, 43], [160, 60, 38], [154, 54, 37], [166, 65, 40], [190, 90, 47], [175, 64, 39],\n",
    "     [177, 70, 40], [159, 55, 37], [171, 75, 42], [181, 85, 43]]\n",
    "\n",
    "Y = ['male', 'male', 'female', 'female', 'male', 'male', 'female', 'female', 'female', 'male', 'male']"
   ]
  },
  {
   "cell_type": "code",
   "execution_count": 10,
   "metadata": {},
   "outputs": [],
   "source": [
    "# Classifiers\n",
    "# using the default values for all the hyperparameters\n",
    "clf_tree = tree.DecisionTreeClassifier()\n",
    "clf_svm = SVC()\n",
    "clf_perceptron = Perceptron()\n",
    "clf_KNN = KNeighborsClassifier()\n",
    "clf_gauss = GaussianNB()"
   ]
  },
  {
   "cell_type": "code",
   "execution_count": 23,
   "metadata": {},
   "outputs": [
    {
     "name": "stdout",
     "output_type": "stream",
     "text": [
      "Accuracy for DecisionTree: 1.0\n",
      "Accuracy for SVM: 1.0\n",
      "Accuracy for perceptron: 0.5454545454545454\n",
      "Accuracy for KNN: 0.7272727272727273\n",
      "Accuracy for gauss: 0.8181818181818182\n",
      "For same dataset\n",
      "Best gender classifier is SVM\n",
      "\n",
      "Accuracy for DecisionTree: 1.0\n",
      "Accuracy for SVM: 0.625\n",
      "Accuracy for perceptron: 0.625\n",
      "Accuracy for KNN: 0.875\n",
      "Accuracy for gauss: 1.0\n",
      "For different dataset\n",
      "Best gender classifier is GaussianNB\n"
     ]
    },
    {
     "name": "stderr",
     "output_type": "stream",
     "text": [
      "/usr/local/lib/python3.6/site-packages/sklearn/linear_model/stochastic_gradient.py:128: FutureWarning: max_iter and tol parameters have been added in <class 'sklearn.linear_model.perceptron.Perceptron'> in 0.19. If both are left unset, they default to max_iter=5 and tol=None. If tol is not None, max_iter defaults to max_iter=1000. From 0.21, default max_iter will be 1000, and default tol will be 1e-3.\n",
      "  \"and default tol will be 1e-3.\" % type(self), FutureWarning)\n"
     ]
    }
   ],
   "source": [
    "# Training the models\n",
    "clf = clf_tree.fit(X, Y)\n",
    "clf_svm = clf_svm.fit(X, Y)\n",
    "clf_perceptron = clf_perceptron.fit(X, Y)\n",
    "clf_KNN = clf_KNN.fit(X, Y)\n",
    "clf_gauss = clf_gauss.fit(X,Y)\n",
    "\n",
    "# Testing using the same data\n",
    "pred_tree = clf_tree.predict(X)\n",
    "acc_tree = accuracy_score(Y, pred_tree)\n",
    "print('Accuracy for DecisionTree: {}'.format(acc_tree))\n",
    "\n",
    "pred_svm = clf_svm.predict(X)\n",
    "acc_svm = accuracy_score(Y, pred_svm)\n",
    "print('Accuracy for SVM: {}'.format(acc_svm))\n",
    "\n",
    "pred_per = clf_perceptron.predict(X)\n",
    "acc_per = accuracy_score(Y, pred_per)\n",
    "print('Accuracy for perceptron: {}'.format(acc_per))\n",
    "\n",
    "pred_KNN = clf_KNN.predict(X)\n",
    "acc_KNN = accuracy_score(Y, pred_KNN)\n",
    "print('Accuracy for KNN: {}'.format(acc_KNN))\n",
    "\n",
    "pred_gauss = clf_gauss.predict(X)\n",
    "acc_gauss = accuracy_score(Y, pred_gauss)\n",
    "print('Accuracy for gauss: {}'.format(acc_gauss))\n",
    "\n",
    "# The best classifier from svm, per, KNN\n",
    "print('For same dataset')\n",
    "index = np.argmax([acc_svm, acc_per, acc_KNN, acc_gauss])\n",
    "classifiers = {0: 'SVM', 1: 'Perceptron', 2: 'KNN', 3: 'GaussianNB'}\n",
    "print('Best gender classifier is {}'.format(classifiers[index]))\n",
    "\n",
    "print()\n",
    "\n",
    "_X=[[184,84,44],[198,92,48],[183,83,44],[166,47,36],[170,60,38],[172,64,39],[182,80,42],[180,80,43]]\n",
    "_Y=['male','male','male','female','female','female','male','male']\n",
    "\n",
    "pred_tree = clf_tree.predict(_X)\n",
    "acc_tree = accuracy_score(_Y, pred_tree)\n",
    "print('Accuracy for DecisionTree: {}'.format(acc_tree))\n",
    "\n",
    "pred_svm = clf_svm.predict(_X)\n",
    "acc_svm = accuracy_score(_Y, pred_svm)\n",
    "print('Accuracy for SVM: {}'.format(acc_svm))\n",
    "\n",
    "pred_per = clf_perceptron.predict(_X)\n",
    "acc_per = accuracy_score(_Y, pred_per)\n",
    "print('Accuracy for perceptron: {}'.format(acc_per))\n",
    "\n",
    "pred_KNN = clf_KNN.predict(_X)\n",
    "acc_KNN = accuracy_score(_Y, pred_KNN)\n",
    "print('Accuracy for KNN: {}'.format(acc_KNN))\n",
    "\n",
    "pred_gauss = clf_gauss.predict(_X)\n",
    "acc_gauss = accuracy_score(_Y, pred_gauss)\n",
    "print('Accuracy for gauss: {}'.format(acc_gauss))\n",
    "\n",
    "# The best classifier from svm, per, KNN\n",
    "print('For different dataset')\n",
    "index = np.argmax([acc_svm, acc_per, acc_KNN, acc_gauss])\n",
    "classifiers = {0: 'SVM', 1: 'Perceptron', 2: 'KNN', 3: 'GaussianNB'}\n",
    "print('Best gender classifier is {}'.format(classifiers[index]))"
   ]
  }
 ],
 "metadata": {
  "kernelspec": {
   "display_name": "Python 3",
   "language": "python",
   "name": "python3"
  },
  "language_info": {
   "codemirror_mode": {
    "name": "ipython",
    "version": 3
   },
   "file_extension": ".py",
   "mimetype": "text/x-python",
   "name": "python",
   "nbconvert_exporter": "python",
   "pygments_lexer": "ipython3",
   "version": "3.6.5"
  }
 },
 "nbformat": 4,
 "nbformat_minor": 2
}
