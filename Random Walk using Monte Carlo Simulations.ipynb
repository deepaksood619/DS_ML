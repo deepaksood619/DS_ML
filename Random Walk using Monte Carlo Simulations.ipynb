{
 "cells": [
  {
   "cell_type": "markdown",
   "metadata": {},
   "source": [
    "### Random Walk using Monte Carlo Simulation"
   ]
  },
  {
   "cell_type": "markdown",
   "metadata": {},
   "source": [
    "https://www.youtube.com/watch?v=BfS2H1y6tzQ"
   ]
  },
  {
   "cell_type": "code",
   "execution_count": 3,
   "metadata": {},
   "outputs": [],
   "source": [
    "import random"
   ]
  },
  {
   "cell_type": "code",
   "execution_count": 4,
   "metadata": {},
   "outputs": [],
   "source": [
    "def random_walk(n):\n",
    "    \"\"\"\n",
    "    Return coordinates after 'n' block random walks\n",
    "    \"\"\"\n",
    "    x = y = 0\n",
    "    for i in range(n):\n",
    "        val = random.choice(['N', 'S', 'E', 'W'])\n",
    "        if val == 'N':\n",
    "            y += 1\n",
    "        elif val == 'S':\n",
    "            y -= 1\n",
    "        elif val == 'E':\n",
    "            x += 1\n",
    "        else:\n",
    "            x -= 1\n",
    "        \n",
    "    return (x, y)"
   ]
  },
  {
   "cell_type": "code",
   "execution_count": 21,
   "metadata": {},
   "outputs": [
    {
     "name": "stdout",
     "output_type": "stream",
     "text": [
      "0 Distance from home = 2\n",
      "1 Distance from home = 2\n",
      "2 Distance from home = 4\n",
      "3 Distance from home = 4\n",
      "4 Distance from home = 2\n",
      "5 Distance from home = 2\n",
      "6 Distance from home = 6\n",
      "7 Distance from home = 2\n",
      "8 Distance from home = 2\n",
      "9 Distance from home = 4\n",
      "10 Distance from home = 8\n",
      "11 Distance from home = 6\n",
      "12 Distance from home = 0\n",
      "13 Distance from home = 2\n",
      "14 Distance from home = 2\n",
      "15 Distance from home = 6\n",
      "16 Distance from home = 4\n",
      "17 Distance from home = 4\n",
      "18 Distance from home = 2\n",
      "19 Distance from home = 4\n",
      "20 Distance from home = 2\n",
      "21 Distance from home = 6\n",
      "22 Distance from home = 4\n",
      "23 Distance from home = 2\n",
      "24 Distance from home = 2\n"
     ]
    }
   ],
   "source": [
    "for i in range(25):\n",
    "    (x, y) = random_walk(10)\n",
    "    print (i, \"Distance from home = {}\".format(abs(x) + abs(y)))"
   ]
  },
  {
   "cell_type": "markdown",
   "metadata": {},
   "source": [
    "Using compact code"
   ]
  },
  {
   "cell_type": "code",
   "execution_count": 16,
   "metadata": {},
   "outputs": [],
   "source": [
    "def random_walk_compact(n):\n",
    "    x, y = 0, 0\n",
    "    for i in range(n):\n",
    "        (dx, dy) = random.choice([(0,1), (0,-1), (1,0), (-1,0)])\n",
    "        x += dx\n",
    "        y += dy\n",
    "    return (x, y)"
   ]
  },
  {
   "cell_type": "code",
   "execution_count": 23,
   "metadata": {},
   "outputs": [
    {
     "name": "stdout",
     "output_type": "stream",
     "text": [
      "0 Distance from home = 4\n",
      "1 Distance from home = 0\n",
      "2 Distance from home = 8\n",
      "3 Distance from home = 2\n",
      "4 Distance from home = 2\n",
      "5 Distance from home = 2\n",
      "6 Distance from home = 8\n",
      "7 Distance from home = 2\n",
      "8 Distance from home = 4\n",
      "9 Distance from home = 4\n",
      "10 Distance from home = 2\n",
      "11 Distance from home = 4\n",
      "12 Distance from home = 2\n",
      "13 Distance from home = 4\n",
      "14 Distance from home = 4\n",
      "15 Distance from home = 4\n",
      "16 Distance from home = 4\n",
      "17 Distance from home = 4\n",
      "18 Distance from home = 2\n",
      "19 Distance from home = 2\n",
      "20 Distance from home = 4\n",
      "21 Distance from home = 2\n",
      "22 Distance from home = 6\n",
      "23 Distance from home = 2\n",
      "24 Distance from home = 4\n"
     ]
    }
   ],
   "source": [
    "for i in range(25):\n",
    "    (x, y) = random_walk_compact(10)\n",
    "    print (i, \"Distance from home = {}\".format(abs(x) + abs(y)))"
   ]
  },
  {
   "cell_type": "markdown",
   "metadata": {},
   "source": [
    "`What is the longest random walk you can take so that on average you will end up 4 block or fewer from home?`"
   ]
  },
  {
   "cell_type": "code",
   "execution_count": 26,
   "metadata": {},
   "outputs": [
    {
     "name": "stdout",
     "output_type": "stream",
     "text": [
      "Walk Size = 1, probability of no transport = 100.0\n",
      "Walk Size = 2, probability of no transport = 100.0\n",
      "Walk Size = 3, probability of no transport = 100.0\n",
      "Walk Size = 4, probability of no transport = 100.0\n",
      "Walk Size = 5, probability of no transport = 87.65\n",
      "Walk Size = 6, probability of no transport = 94.14\n",
      "Walk Size = 7, probability of no transport = 76.85\n",
      "Walk Size = 8, probability of no transport = 86.58\n",
      "Walk Size = 9, probability of no transport = 67.32\n",
      "Walk Size = 10, probability of no transport = 79.16\n",
      "Walk Size = 11, probability of no transport = 60.035\n",
      "Walk Size = 12, probability of no transport = 73.205\n",
      "Walk Size = 13, probability of no transport = 54.21\n",
      "Walk Size = 14, probability of no transport = 67.64\n",
      "Walk Size = 15, probability of no transport = 49.145\n",
      "Walk Size = 16, probability of no transport = 62.13\n",
      "Walk Size = 17, probability of no transport = 44.41\n",
      "Walk Size = 18, probability of no transport = 58.985\n",
      "Walk Size = 19, probability of no transport = 41.055\n",
      "Walk Size = 20, probability of no transport = 54.225\n",
      "Walk Size = 21, probability of no transport = 37.975\n",
      "Walk Size = 22, probability of no transport = 50.46\n",
      "Walk Size = 23, probability of no transport = 35.72\n",
      "Walk Size = 24, probability of no transport = 48.135\n",
      "Walk Size = 25, probability of no transport = 33.325\n",
      "Walk Size = 26, probability of no transport = 45.83\n",
      "Walk Size = 27, probability of no transport = 31.02\n",
      "Walk Size = 28, probability of no transport = 43.24\n",
      "Walk Size = 29, probability of no transport = 29.585\n",
      "Walk Size = 30, probability of no transport = 40.985\n"
     ]
    }
   ],
   "source": [
    "number_of_walks = 20000\n",
    "\n",
    "for walk in range(1, 31):\n",
    "    no_transport = 0 # number of walks less then 4\n",
    "    for i in range(number_of_walks):\n",
    "        (x, y) = random_walk_compact(walk)\n",
    "        distance = abs(x) + abs(y)\n",
    "        if distance <= 4:\n",
    "            no_transport += 1\n",
    "    prob = (no_transport * 100) / number_of_walks\n",
    "    print('Walk Size = {}, probability of no transport = {}'.format(walk, prob))"
   ]
  },
  {
   "cell_type": "markdown",
   "metadata": {},
   "source": [
    "Here we can see that for Walk size 22 we have 50% chance of not using transport i.e. ending up less than 4 block away from home.\n",
    "\n",
    "Also we can see than even walks have higher probability of leaving us close to home than odd walks"
   ]
  },
  {
   "cell_type": "markdown",
   "metadata": {},
   "source": [
    "---"
   ]
  },
  {
   "cell_type": "markdown",
   "metadata": {},
   "source": [
    "`What is the longest random walk you can take so that on average you will end up 5 block or fewer from home?`"
   ]
  },
  {
   "cell_type": "code",
   "execution_count": 28,
   "metadata": {
    "scrolled": false
   },
   "outputs": [
    {
     "name": "stdout",
     "output_type": "stream",
     "text": [
      "Walk Size = 1, probability of no transport = 100.0\n",
      "Walk Size = 2, probability of no transport = 100.0\n",
      "Walk Size = 3, probability of no transport = 100.0\n",
      "Walk Size = 4, probability of no transport = 100.0\n",
      "Walk Size = 5, probability of no transport = 100.0\n",
      "Walk Size = 6, probability of no transport = 93.71333333333334\n",
      "Walk Size = 7, probability of no transport = 96.86666666666666\n",
      "Walk Size = 8, probability of no transport = 86.00333333333333\n",
      "Walk Size = 9, probability of no transport = 92.29\n",
      "Walk Size = 10, probability of no transport = 79.44666666666667\n",
      "Walk Size = 11, probability of no transport = 87.46\n",
      "Walk Size = 12, probability of no transport = 73.24333333333334\n",
      "Walk Size = 13, probability of no transport = 82.82666666666667\n",
      "Walk Size = 14, probability of no transport = 67.47666666666667\n",
      "Walk Size = 15, probability of no transport = 77.85\n",
      "Walk Size = 16, probability of no transport = 62.25333333333333\n",
      "Walk Size = 17, probability of no transport = 73.27\n",
      "Walk Size = 18, probability of no transport = 58.07666666666667\n",
      "Walk Size = 19, probability of no transport = 69.13\n",
      "Walk Size = 20, probability of no transport = 54.0\n",
      "Walk Size = 21, probability of no transport = 65.34666666666666\n",
      "Walk Size = 22, probability of no transport = 50.85\n",
      "Walk Size = 23, probability of no transport = 62.13333333333333\n",
      "Walk Size = 24, probability of no transport = 47.18333333333333\n",
      "Walk Size = 25, probability of no transport = 59.38666666666666\n",
      "Walk Size = 26, probability of no transport = 45.35\n",
      "Walk Size = 27, probability of no transport = 56.35666666666667\n",
      "Walk Size = 28, probability of no transport = 43.15\n",
      "Walk Size = 29, probability of no transport = 53.71333333333333\n",
      "Walk Size = 30, probability of no transport = 40.99666666666667\n",
      "Walk Size = 31, probability of no transport = 52.04\n",
      "Walk Size = 32, probability of no transport = 38.236666666666665\n",
      "Walk Size = 33, probability of no transport = 49.46333333333333\n",
      "Walk Size = 34, probability of no transport = 37.1\n",
      "Walk Size = 35, probability of no transport = 47.86666666666667\n",
      "Walk Size = 36, probability of no transport = 35.29666666666667\n",
      "Walk Size = 37, probability of no transport = 45.38333333333333\n"
     ]
    }
   ],
   "source": [
    "number_of_walks = 30000\n",
    "\n",
    "for walk in range(1, 38):\n",
    "    no_transport = 0 # number of walks less then 4\n",
    "    for i in range(number_of_walks):\n",
    "        (x, y) = random_walk_compact(walk)\n",
    "        distance = abs(x) + abs(y)\n",
    "        if distance <= 5:\n",
    "            no_transport += 1\n",
    "    prob = (no_transport * 100) / number_of_walks\n",
    "    print('Walk Size = {}, probability of no transport = {}'.format(walk, prob))"
   ]
  }
 ],
 "metadata": {
  "kernelspec": {
   "display_name": "Python 3",
   "language": "python",
   "name": "python3"
  },
  "language_info": {
   "codemirror_mode": {
    "name": "ipython",
    "version": 3
   },
   "file_extension": ".py",
   "mimetype": "text/x-python",
   "name": "python",
   "nbconvert_exporter": "python",
   "pygments_lexer": "ipython3",
   "version": "3.6.5"
  }
 },
 "nbformat": 4,
 "nbformat_minor": 2
}
