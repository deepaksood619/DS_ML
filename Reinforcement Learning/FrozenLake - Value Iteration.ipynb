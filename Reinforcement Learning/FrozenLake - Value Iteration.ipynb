{
 "cells": [
  {
   "cell_type": "markdown",
   "metadata": {},
   "source": [
    "## Value-iteration algorithm"
   ]
  },
  {
   "cell_type": "code",
   "execution_count": 52,
   "metadata": {},
   "outputs": [],
   "source": [
    "import numpy\n",
    "import gym\n",
    "import time"
   ]
  },
  {
   "cell_type": "code",
   "execution_count": 53,
   "metadata": {},
   "outputs": [],
   "source": [
    "def execute(env, policy, gamma=1.0, render=False):\n",
    "    start = env.reset() \n",
    "    totalReward = 0 \n",
    "    stepIndex = 0 \n",
    "    while True:\n",
    "        if render: \n",
    "            env.render()\n",
    "        start, reward, done, _ = env.step(int(policy[start])) \n",
    "        totalReward += (gamma ** stepIndex * reward) \n",
    "        stepIndex += 1\n",
    "        if done:\n",
    "            break\n",
    "    return totalReward\n"
   ]
  },
  {
   "cell_type": "code",
   "execution_count": 54,
   "metadata": {},
   "outputs": [],
   "source": [
    "def evaluatePolicy(env, policy, gamma=1.0, n=100):\n",
    "    scores = [execute(env, policy, gamma=gamma, render=False) for _ in range(n)]\n",
    "    return numpy.mean(scores)\n"
   ]
  },
  {
   "cell_type": "code",
   "execution_count": 55,
   "metadata": {},
   "outputs": [],
   "source": [
    "def calculatePolicy(v, gamma=1.0):\n",
    "    policy = numpy.zeros(env.env.nS) \n",
    "    for s in range(env.env.nS):\n",
    "        q_sa = numpy.zeros(env.action_space.n) \n",
    "        for a in range(env.action_space.n):\n",
    "            for next_sr in env.env.P[s][a]:\n",
    "                # next_sr is a tuple of (probability, next state, reward, done) \n",
    "                p, s_, r, _ = next_sr\n",
    "                q_sa[a] += (p * (r + gamma * v[s_]))\n",
    "        policy[s] = numpy.argmax(q_sa) \n",
    "    return policy\n",
    "    "
   ]
  },
  {
   "cell_type": "code",
   "execution_count": 56,
   "metadata": {},
   "outputs": [],
   "source": [
    "def valueIteration(env, gamma=1.0):\n",
    "    value = numpy.zeros(env.env.nS)\n",
    "    max_iterations = 10000\n",
    "    eps = 1e-20\n",
    "    for i in range(max_iterations):\n",
    "        prev_v = numpy.copy(value)\n",
    "        for s in range(env.env.nS):\n",
    "            q_sa = [sum([p*(r+prev_v[s_]) for p,s_,r,_ in env.env.P[s][a]]) for a in range(env.env.nA)]\n",
    "            value[s] = max(q_sa)\n",
    "        if (numpy.sum(numpy.fabs(prev_v - value)) <= eps):\n",
    "            print('Value-iteration converged at # %d.' % (i + 1))\n",
    "            break\n",
    "    return value\n"
   ]
  },
  {
   "cell_type": "code",
   "execution_count": 57,
   "metadata": {},
   "outputs": [
    {
     "name": "stdout",
     "output_type": "stream",
     "text": [
      "Value-iteration converged at # 1373.\n",
      "Best score = 0.73. Time taken = 0.5555 seconds\n"
     ]
    }
   ],
   "source": [
    "if __name__ == '__main__':\n",
    "    gamma = 1.0\n",
    "    env = gym.make(\"FrozenLake-v0\")\n",
    "    optimalValue = valueIteration(env, gamma)\n",
    "    startTime = time.time()\n",
    "    policy = calculatePolicy(optimalValue, gamma)\n",
    "    policy_score = evaluatePolicy(env, policy, gamma, n=1000)\n",
    "    endTime = time.time()\n",
    "    print(\"Best score = %0.2f. Time taken = %4.4f seconds\" % (numpy.mean(policy_score), endTime - startTime))"
   ]
  }
 ],
 "metadata": {
  "kernelspec": {
   "display_name": "Python 3",
   "language": "python",
   "name": "python3"
  },
  "language_info": {
   "codemirror_mode": {
    "name": "ipython",
    "version": 3
   },
   "file_extension": ".py",
   "mimetype": "text/x-python",
   "name": "python",
   "nbconvert_exporter": "python",
   "pygments_lexer": "ipython3",
   "version": "3.6.5"
  }
 },
 "nbformat": 4,
 "nbformat_minor": 2
}
