{
 "cells": [
  {
   "cell_type": "markdown",
   "metadata": {},
   "source": [
    "- 0 - Left\n",
    "- 1 - Down\n",
    "- 2 - Right\n",
    "- 3 - Up"
   ]
  },
  {
   "cell_type": "code",
   "execution_count": 1,
   "metadata": {},
   "outputs": [],
   "source": [
    "import numpy\n",
    "import time\n",
    "import gym"
   ]
  },
  {
   "cell_type": "code",
   "execution_count": 2,
   "metadata": {},
   "outputs": [],
   "source": [
    "def execute(env, policy, episodeLength=100, render=False):\n",
    "    totalReward = 0\n",
    "    start = env.reset()\n",
    "    for t in range(episodeLength):\n",
    "        if render:\n",
    "            env.render()\n",
    "        action = policy[start]\n",
    "        start, reward, done, _ = env.step(action)\n",
    "        totalReward += reward\n",
    "        if done:\n",
    "            break\n",
    "    return totalReward\n"
   ]
  },
  {
   "cell_type": "code",
   "execution_count": 3,
   "metadata": {},
   "outputs": [],
   "source": [
    "def evaluatePolicy(env, policy, n_episodes=100):\n",
    "    totalReward = 0.0\n",
    "    for _ in range(n_episodes):\n",
    "        totalReward += execute(env, policy)\n",
    "    return totalReward / n_episodes\n"
   ]
  },
  {
   "cell_type": "code",
   "execution_count": 4,
   "metadata": {},
   "outputs": [],
   "source": [
    "def get_random_policy():\n",
    "    return numpy.random.choice(4, size=((16)))"
   ]
  },
  {
   "cell_type": "code",
   "execution_count": 5,
   "metadata": {},
   "outputs": [
    {
     "name": "stdout",
     "output_type": "stream",
     "text": [
      "Best score = 0.65. Time taken = 13.4511 seconds\n"
     ]
    }
   ],
   "source": [
    "env = gym.make('FrozenLake-v0')\n",
    "n_policies = 1000\n",
    "startTime = time.time()\n",
    "policy_set = [get_random_policy() for _ in range(n_policies)]\n",
    "policy_score = [evaluatePolicy(env, p) for p in policy_set]\n",
    "endTime = time.time()\n",
    "print(\"Best score = %0.2f. Time taken = %4.4f seconds\" %(numpy.max(policy_score) , endTime - startTime))\n"
   ]
  },
  {
   "cell_type": "markdown",
   "metadata": {},
   "source": [
    "### For creating deterministic environment with is_slippery = False"
   ]
  },
  {
   "cell_type": "code",
   "execution_count": null,
   "metadata": {},
   "outputs": [],
   "source": [
    "from gym.envs.registration import register\n",
    "env = register(\n",
    "    id='FrozenLakeNotSlippery-v0',\n",
    "    entry_point='gym.envs.toy_text:FrozenLakeEnv',\n",
    "    kwargs={'map_name' : '4x4', 'is_slippery': False},\n",
    "    max_episode_steps=100,\n",
    "    reward_threshold=0.78, # optimum = .8196\n",
    ")\n"
   ]
  },
  {
   "cell_type": "code",
   "execution_count": null,
   "metadata": {},
   "outputs": [],
   "source": [
    "import gym"
   ]
  },
  {
   "cell_type": "code",
   "execution_count": null,
   "metadata": {},
   "outputs": [],
   "source": [
    "env = gym.make('FrozenLakeNotSlippery-v0')\n",
    "env.reset()\n",
    "env.render()\n",
    "print(env.step(0))\n",
    "env.render()"
   ]
  }
 ],
 "metadata": {
  "kernelspec": {
   "display_name": "Python 3",
   "language": "python",
   "name": "python3"
  },
  "language_info": {
   "codemirror_mode": {
    "name": "ipython",
    "version": 3
   },
   "file_extension": ".py",
   "mimetype": "text/x-python",
   "name": "python",
   "nbconvert_exporter": "python",
   "pygments_lexer": "ipython3",
   "version": "3.6.5"
  }
 },
 "nbformat": 4,
 "nbformat_minor": 2
}
