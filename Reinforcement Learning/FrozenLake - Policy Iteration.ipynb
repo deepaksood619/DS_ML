{
 "cells": [
  {
   "cell_type": "markdown",
   "metadata": {},
   "source": [
    "## Policy Iteration Algorithm"
   ]
  },
  {
   "cell_type": "code",
   "execution_count": 3,
   "metadata": {},
   "outputs": [],
   "source": [
    "import numpy\n",
    "import gym\n",
    "import time"
   ]
  },
  {
   "cell_type": "code",
   "execution_count": 4,
   "metadata": {},
   "outputs": [],
   "source": [
    "def execute(env, policy, gamma=1.0, render=False):\n",
    "    start = env.reset() \n",
    "    totalReward = 0 \n",
    "    stepIndex = 0 \n",
    "    while True:\n",
    "        if render: \n",
    "            env.render()\n",
    "        start, reward, done, _ = env.step(int(policy[start])) \n",
    "        totalReward += (gamma ** stepIndex * reward) \n",
    "        stepIndex += 1\n",
    "        if done:\n",
    "            break\n",
    "    return totalReward\n"
   ]
  },
  {
   "cell_type": "code",
   "execution_count": 5,
   "metadata": {},
   "outputs": [],
   "source": [
    "def evaluatePolicy(env, policy, gamma=1.0, n=100):\n",
    "    scores = [execute(env, policy, gamma=gamma, render=False) for _ in range(n)]\n",
    "    return numpy.mean(scores)\n"
   ]
  },
  {
   "cell_type": "code",
   "execution_count": 13,
   "metadata": {},
   "outputs": [],
   "source": [
    "def extractPolicy(v, gamma=1.0):\n",
    "    policy = numpy.zeros(env.env.nS)\n",
    "    for s in range(env.env.nS):\n",
    "        q_sa = numpy.zeros(env.env.nA)\n",
    "        for a in range(env.env.nA):\n",
    "            q_sa[a] = sum([p * (r+gamma*v[s_]) for p,s_,r,_ in env.env.P[s][a]])\n",
    "        policy[s] = numpy.argmax(q_sa)\n",
    "    return policy\n"
   ]
  },
  {
   "cell_type": "code",
   "execution_count": 10,
   "metadata": {},
   "outputs": [],
   "source": [
    "def CalcPolicyValue(env, policy, gamma=1.0):\n",
    "    value = numpy.zeros(env.env.nS)\n",
    "    eps = 1e-10\n",
    "    while True:\n",
    "        previousValue = numpy.copy(value)\n",
    "        for states in range(env.env.nS):\n",
    "            policy_a = policy[states]\n",
    "            value[states] = sum([p * (r + gamma*previousValue[s_]) for p, s_, r, _ in env.env.P[states][policy_a]])\n",
    "        if (numpy.sum((numpy.fabs(previousValue - value))) <= eps):\n",
    "            break\n",
    "                \n",
    "    return value\n"
   ]
  },
  {
   "cell_type": "code",
   "execution_count": 31,
   "metadata": {},
   "outputs": [],
   "source": [
    "def policyIteration(env, gamma=1.0):\n",
    "    policy = numpy.random.choice(env.env.nA, size=(env.env.nS))\n",
    "    print(policy)\n",
    "    maxIterations = 1000\n",
    "    gamma = 1.0\n",
    "    for i in range(maxIterations):\n",
    "        oldPolicyValue = CalcPolicyValue(env, policy, gamma)\n",
    "        print('oldPolicyValue', oldPolicyValue)\n",
    "        newPolicy = extractPolicy(oldPolicyValue, gamma)\n",
    "        print('newPolicy', newPolicy)\n",
    "        if (numpy.all(policy == newPolicy)):\n",
    "            print('Policy iteration converged at %d.'%(i+1))\n",
    "            break\n",
    "        policy = newPolicy\n",
    "    return policy\n"
   ]
  },
  {
   "cell_type": "code",
   "execution_count": 41,
   "metadata": {},
   "outputs": [],
   "source": [
    "policy = numpy.array([1, 0, 2, 2, 2, 3, 1, 0, 3, 1, 2, 2, 3, 0, 1, 3])\n",
    "newPolicy = numpy.array([0., 3., 3., 3., 0., 0., 0., 0., 3., 1., 0., 0., 0., 2., 1., 0.])"
   ]
  },
  {
   "cell_type": "code",
   "execution_count": 42,
   "metadata": {},
   "outputs": [
    {
     "data": {
      "text/plain": [
       "False"
      ]
     },
     "execution_count": 42,
     "metadata": {},
     "output_type": "execute_result"
    }
   ],
   "source": [
    "numpy.all(policy == newPolicy)"
   ]
  },
  {
   "cell_type": "code",
   "execution_count": 35,
   "metadata": {},
   "outputs": [
    {
     "name": "stdout",
     "output_type": "stream",
     "text": [
      "[1 0 2 2 2 3 1 0 3 1 2 2 3 0 1 3]\n",
      "oldPolicyValue [0.01926164 0.00963082 0.0329053  0.         0.02889246 0.\n",
      " 0.06581059 0.         0.06741573 0.105939   0.19743178 0.\n",
      " 0.         0.0529695  0.52648475 0.        ]\n",
      "newPolicy [0. 3. 0. 0. 0. 0. 0. 0. 3. 1. 0. 0. 0. 2. 2. 0.]\n",
      "oldPolicyValue [0.68085106 0.57446808 0.46808511 0.23404255 0.68085106 0.\n",
      " 0.36170213 0.         0.68085106 0.68085106 0.61702128 0.\n",
      " 0.         0.74468085 0.80851064 0.        ]\n",
      "newPolicy [0. 3. 0. 3. 0. 0. 0. 0. 3. 1. 0. 0. 0. 2. 1. 0.]\n",
      "oldPolicyValue [0.7804878  0.65853658 0.53658537 0.53658537 0.7804878  0.\n",
      " 0.41463415 0.         0.7804878  0.7804878  0.70731707 0.\n",
      " 0.         0.85365854 0.92682927 0.        ]\n",
      "newPolicy [0. 3. 3. 3. 0. 0. 0. 0. 3. 1. 0. 0. 0. 2. 1. 0.]\n",
      "oldPolicyValue [0.82352941 0.82352941 0.82352941 0.82352941 0.82352941 0.\n",
      " 0.52941176 0.         0.82352941 0.82352941 0.76470588 0.\n",
      " 0.         0.88235294 0.94117647 0.        ]\n",
      "newPolicy [0. 3. 3. 3. 0. 0. 0. 0. 3. 1. 0. 0. 0. 2. 1. 0.]\n",
      "Policy iteration converged at 4.\n",
      "Best score = 0.76. Time taken=0.2601 seconds\n"
     ]
    }
   ],
   "source": [
    "if __name__ == '__main__':\n",
    "    env_name = 'FrozenLake-v0'\n",
    "    env = gym.make(env_name)\n",
    "    start = time.time()\n",
    "    optimalPolicy = policyIteration(env, gamma=1.0)\n",
    "    scores = evaluatePolicy(env, optimalPolicy, gamma=1.0)\n",
    "    end = time.time()\n",
    "    print(\"Best score = %0.2f. Time taken=%4.4f seconds\" %(numpy.max(scores), end-start))\n"
   ]
  }
 ],
 "metadata": {
  "kernelspec": {
   "display_name": "Python 3",
   "language": "python",
   "name": "python3"
  },
  "language_info": {
   "codemirror_mode": {
    "name": "ipython",
    "version": 3
   },
   "file_extension": ".py",
   "mimetype": "text/x-python",
   "name": "python",
   "nbconvert_exporter": "python",
   "pygments_lexer": "ipython3",
   "version": "3.6.5"
  }
 },
 "nbformat": 4,
 "nbformat_minor": 2
}
